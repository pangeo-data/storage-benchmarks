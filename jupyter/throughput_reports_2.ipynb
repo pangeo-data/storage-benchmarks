{
 "cells": [
  {
   "cell_type": "code",
   "execution_count": 2,
   "metadata": {},
   "outputs": [],
   "source": [
    "import json\n",
    "import numpy as np\n",
    "import pandas as pd\n",
    "import matplotlib.pyplot as plt\n",
    "from io import StringIO\n",
    "import re"
   ]
  },
  {
   "cell_type": "code",
   "execution_count": 3,
   "metadata": {},
   "outputs": [],
   "source": [
    "%matplotlib inline\n",
    "plt.rcParams['figure.figsize'] = (12,8)"
   ]
  },
  {
   "cell_type": "code",
   "execution_count": 5,
   "metadata": {},
   "outputs": [],
   "source": [
    "with open (\"../results/kubernetes-gcp/45c0ba24-conda-py3.6-dask-distributed-gcsfs-h5netcdf-h5py-lz4-netcdf4-numpy-pip+dask_kubernetes-pip+h5pyd-pyyaml-rasterio-xarray-zarr.json\") as f:\n",
    "    results = json.load(f)"
   ]
  },
  {
   "cell_type": "code",
   "execution_count": 11,
   "metadata": {},
   "outputs": [
    {
     "name": "stdout",
     "output_type": "stream",
     "text": [
      "gcp_zarr_dask_read.Report_dataset_sizes.track_Zarr_GCP_LLC4320_dataset_size {'params': [[\"'ALL'\"], ['1'], ['1']], 'result': [107.93425346910954]}\n",
      "gcp_zarr_dask_read.Zarr_GCP_LLC4320.time_load_array_compute_theta_mean {'params': [[\"'GCS'\"], ['5'], ['120']], 'result': [88.63612948400078]}\n"
     ]
    }
   ],
   "source": [
    "for key, value in (results['results'].items()):\n",
    "    print(key, value)"
   ]
  },
  {
   "cell_type": "code",
   "execution_count": 10,
   "metadata": {},
   "outputs": [
    {
     "name": "stdout",
     "output_type": "stream",
     "text": [
      "{'params': [[\"'ALL'\"], ['1'], ['1']], 'result': [107.93425346910954]}\n",
      "{'params': [[\"'GCS'\"], ['5'], ['120']], 'result': [88.63612948400078]}\n"
     ]
    }
   ],
   "source": [
    "for i in results['results']:\n",
    "    print(results['results'][i])"
   ]
  },
  {
   "cell_type": "code",
   "execution_count": 13,
   "metadata": {},
   "outputs": [
    {
     "name": "stdout",
     "output_type": "stream",
     "text": [
      "gcp_zarr_dask_read.Report_dataset_sizes.track_Zarr_GCP_LLC4320_dataset_size\n",
      "gcp_zarr_dask_read.Zarr_GCP_LLC4320.time_load_array_compute_theta_mean\n"
     ]
    }
   ],
   "source": [
    "for i in results['results']:\n",
    "    print(i)"
   ]
  },
  {
   "cell_type": "code",
   "execution_count": 35,
   "metadata": {},
   "outputs": [
    {
     "name": "stdout",
     "output_type": "stream",
     "text": [
      "hello!\n",
      "gcp_zarr_dask_read.Report_dataset_sizes.track_Zarr_GCP_LLC4320_dataset_size\n",
      "107.93425346910954\n",
      "gcp_zarr_dask_read.Zarr_GCP_LLC4320.time_load_array_compute_theta_mean\n",
      "0.0\n"
     ]
    }
   ],
   "source": [
    "for key, value in results['results'].items():\n",
    "    dset_size = 0.\n",
    "    if re.match(r\".*track.*dataset_size\", key):\n",
    "        print(\"hello!\")\n",
    "        dset_size = value['result'][0]\n",
    "    \n",
    "    print(dset_size)"
   ]
  },
  {
   "cell_type": "code",
   "execution_count": null,
   "metadata": {},
   "outputs": [],
   "source": []
  }
 ],
 "metadata": {
  "kernelspec": {
   "display_name": "Python 3",
   "language": "python",
   "name": "python3"
  },
  "language_info": {
   "codemirror_mode": {
    "name": "ipython",
    "version": 3
   },
   "file_extension": ".py",
   "mimetype": "text/x-python",
   "name": "python",
   "nbconvert_exporter": "python",
   "pygments_lexer": "ipython3",
   "version": "3.6.5"
  }
 },
 "nbformat": 4,
 "nbformat_minor": 2
}
