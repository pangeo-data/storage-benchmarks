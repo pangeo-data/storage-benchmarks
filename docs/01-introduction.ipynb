{
 "cells": [
  {
   "cell_type": "markdown",
   "metadata": {},
   "source": [
    "# Pangeo Storage Benchmarks\n",
    "\n",
    "This is more in depth documentation and discussion of the Pangeo Storage Benchmark tests and some information that will serve as discussion around development of tests and also precursor material for future papers or publications that may result. \n",
    "\n",
    "### Scope of Benchmarks\n",
    "Benchmarks are meant to systematically determine performance characteristics of storage backend/API combinations for processing geoscience data on clustered cloud computing resources based on Xarray/Dask within the Python scientific computing framework. Focus will be primarily on read performance although write tests will be written as well. "
   ]
  },
  {
   "cell_type": "markdown",
   "metadata": {},
   "source": [
    "### Use Cases\n",
    "Here is an overview of the use cases covered by the benchmarks. \n",
    "\n",
    "|API/User Interface  | Environment       | format       | Storage Layer     |  \n",
    "|:------------------ |:----------------- |:-------------|:------------------|\n",
    "| Dask/Xarray        | GCP               | Zarr         | GCS via gcsfs     |\n",
    "|                    |                   |              | FUSE              |\n",
    "|                    |                   | NetCDF4      | FUSE              |\n",
    "|                    |                   | H5NetCDF     | HSDS/GCS          |\n",
    "|                    | AWS               | Zarr         | S3 via            |\n",
    "|                    |                   | NetCDF4      |                   |\n",
    "|                    |                   | H5NetCDF     | HSDS/S3           |\n",
    "|                    | GCP               | TileDB       | TBD               |\n",
    "| Numpy              | GCP               | Zarr         | GCS via GCSFS     |\n",
    "|                    |                   |              | FUSE              |\n",
    "|                    |                   | NetCDF4      | FUSE              |\n",
    "|                    |                   | H5NetCDF     | HSDS/GCS          |\n",
    "|                    | AWS               | Zarr         | S3 via            |\n",
    "|                    |                   | NetCDF4      |                   |\n",
    "|                    |                   | H5NetCDF     | HSDS/S3           |"
   ]
  },
  {
   "cell_type": "markdown",
   "metadata": {},
   "source": []
  },
  {
   "cell_type": "code",
   "execution_count": null,
   "metadata": {},
   "outputs": [],
   "source": []
  }
 ],
 "metadata": {
  "kernelspec": {
   "display_name": "Python 3",
   "language": "python",
   "name": "python3"
  },
  "language_info": {
   "codemirror_mode": {
    "name": "ipython",
    "version": 3
   },
   "file_extension": ".py",
   "mimetype": "text/x-python",
   "name": "python",
   "nbconvert_exporter": "python",
   "pygments_lexer": "ipython3",
   "version": "3.6.5"
  }
 },
 "nbformat": 4,
 "nbformat_minor": 2
}
